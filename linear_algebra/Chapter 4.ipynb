{
 "cells": [
  {
   "cell_type": "markdown",
   "metadata": {},
   "source": [
    "## Section 4.2"
   ]
  },
  {
   "cell_type": "code",
   "execution_count": 4,
   "metadata": {},
   "outputs": [
    {
     "name": "stdout",
     "output_type": "stream",
     "text": [
      "[1. 2. 3.]\n",
      "(3,)\n",
      "float64\n"
     ]
    }
   ],
   "source": [
    "# Import the array package\n",
    "from numpy import array \n",
    "\n",
    "# Create the array \n",
    "l = [1.0, 2.0, 3.0]\n",
    "a = array(l)\n",
    "\n",
    "# Display the array \n",
    "print(a)\n",
    "\n",
    "# Display the array shape \n",
    "print(a.shape)\n",
    "\n",
    "# Display the array data type\n",
    "print(a.dtype)"
   ]
  },
  {
   "cell_type": "markdown",
   "metadata": {},
   "source": [
    "## Section 4.3"
   ]
  },
  {
   "cell_type": "code",
   "execution_count": 8,
   "metadata": {},
   "outputs": [
    {
     "name": "stdout",
     "output_type": "stream",
     "text": [
      "[[0.00000000e+000 1.29073862e-231 6.93342483e-310]\n",
      " [3.95252517e-323 1.97626258e-323 2.22835000e-314]\n",
      " [2.22835001e-314 2.22789389e-314 2.22789396e-314]]\n"
     ]
    }
   ],
   "source": [
    "# Import the empty package \n",
    "from numpy import empty \n",
    "\n",
    "# Create the empty array\n",
    "a = empty([3,3])\n",
    "\n",
    "# Display the empty array \n",
    "print(a)"
   ]
  },
  {
   "cell_type": "code",
   "execution_count": 9,
   "metadata": {},
   "outputs": [
    {
     "name": "stdout",
     "output_type": "stream",
     "text": [
      "[[0. 0. 0. 0. 0.]\n",
      " [0. 0. 0. 0. 0.]\n",
      " [0. 0. 0. 0. 0.]]\n"
     ]
    }
   ],
   "source": [
    "# Import the zeros package \n",
    "from numpy import zeros \n",
    "\n",
    "# Create the array of zeros \n",
    "a = zeros([3, 5])\n",
    "\n",
    "# Display the array of zeros \n",
    "print(a)"
   ]
  },
  {
   "cell_type": "code",
   "execution_count": 10,
   "metadata": {},
   "outputs": [
    {
     "name": "stdout",
     "output_type": "stream",
     "text": [
      "[1. 1. 1. 1. 1.]\n"
     ]
    }
   ],
   "source": [
    "# Import the ones package \n",
    "from numpy import ones \n",
    "\n",
    "# Create the array of ones \n",
    "a = ones([5])\n",
    "\n",
    "# Display the array of ones \n",
    "print(a)"
   ]
  },
  {
   "cell_type": "markdown",
   "metadata": {},
   "source": [
    "## Section 4.4"
   ]
  },
  {
   "cell_type": "code",
   "execution_count": 12,
   "metadata": {},
   "outputs": [
    {
     "name": "stdout",
     "output_type": "stream",
     "text": [
      "[[1 2 3]\n",
      " [4 5 6]]\n",
      "(2, 3)\n"
     ]
    }
   ],
   "source": [
    "# Import the packages needed \n",
    "from numpy import array, vstack \n",
    "\n",
    "# Create the arrays\n",
    "a1 = array([1, 2, 3])\n",
    "a2 = array([4, 5, 6])\n",
    "\n",
    "# Stack the arrays vertically \n",
    "a3 = vstack((a1, a2))\n",
    "\n",
    "# Display the new stacked array and its shape \n",
    "print(a3)\n",
    "print(a3.shape)"
   ]
  },
  {
   "cell_type": "code",
   "execution_count": 13,
   "metadata": {},
   "outputs": [
    {
     "name": "stdout",
     "output_type": "stream",
     "text": [
      "[1 2 3 4 5 6]\n",
      "(6,)\n"
     ]
    }
   ],
   "source": [
    "# Import the packages needed \n",
    "from numpy import array, hstack \n",
    "\n",
    "# Create the arrays\n",
    "a1 = array([1, 2, 3])\n",
    "a2 = array([4, 5, 6])\n",
    "\n",
    "# Stack the arrays horizontally\n",
    "a3 = hstack((a1, a2))\n",
    "\n",
    "# Display the new stacked array and its shape \n",
    "print(a3)\n",
    "print(a3.shape)"
   ]
  },
  {
   "cell_type": "markdown",
   "metadata": {},
   "source": [
    "## Extension "
   ]
  },
  {
   "cell_type": "markdown",
   "metadata": {},
   "source": [
    "#### Locate and develop an example for 3 additional NumPy functions for creating arrays."
   ]
  },
  {
   "cell_type": "code",
   "execution_count": 14,
   "metadata": {},
   "outputs": [
    {
     "name": "stdout",
     "output_type": "stream",
     "text": [
      "[[1. 0. 0. 0. 0.]\n",
      " [0. 1. 0. 0. 0.]\n",
      " [0. 0. 1. 0. 0.]\n",
      " [0. 0. 0. 1. 0.]\n",
      " [0. 0. 0. 0. 1.]]\n"
     ]
    }
   ],
   "source": [
    "# Import the eye package \n",
    "from numpy import eye\n",
    "\n",
    "# Create the array of ones on the diagonal and zeros elsewhere\n",
    "a = eye(5)\n",
    "\n",
    "# Display the eye array \n",
    "print(a)"
   ]
  },
  {
   "cell_type": "code",
   "execution_count": 15,
   "metadata": {},
   "outputs": [
    {
     "name": "stdout",
     "output_type": "stream",
     "text": [
      "[[1. 0. 0. 0. 0.]\n",
      " [0. 1. 0. 0. 0.]\n",
      " [0. 0. 1. 0. 0.]\n",
      " [0. 0. 0. 1. 0.]\n",
      " [0. 0. 0. 0. 1.]]\n"
     ]
    }
   ],
   "source": [
    "# Import the identity package \n",
    "from numpy import eye\n",
    "\n",
    "# Create the identity array \n",
    "a = eye(5)\n",
    "\n",
    "# Display the eye array \n",
    "print(a)"
   ]
  },
  {
   "cell_type": "markdown",
   "metadata": {},
   "source": [
    "What's the difference between 'eye' and 'indentity'? Not much. Identity actually calls eye (see below).  However, eye can be control the length with variable M, and can be offset with variable k."
   ]
  },
  {
   "cell_type": "code",
   "execution_count": 16,
   "metadata": {},
   "outputs": [],
   "source": [
    "def identity(n, dtype=None):\n",
    "    from numpy import eye\n",
    "    return eye(n, dtype=dtype)"
   ]
  },
  {
   "cell_type": "code",
   "execution_count": 21,
   "metadata": {},
   "outputs": [
    {
     "name": "stdout",
     "output_type": "stream",
     "text": [
      "[[0. 1. 0. 0.]\n",
      " [0. 0. 1. 0.]\n",
      " [0. 0. 0. 1.]\n",
      " [0. 0. 0. 0.]\n",
      " [0. 0. 0. 0.]]\n"
     ]
    }
   ],
   "source": [
    "# Import the eye package \n",
    "from numpy import eye\n",
    "\n",
    "# Create the array of ones on the diagonal and zeros elsewhere\n",
    "a = eye(5, M = 4, k = 1)\n",
    "\n",
    "# Display the eye array \n",
    "print(a)"
   ]
  },
  {
   "cell_type": "code",
   "execution_count": 23,
   "metadata": {},
   "outputs": [
    {
     "name": "stdout",
     "output_type": "stream",
     "text": [
      "[1 1 1 1 1]\n"
     ]
    }
   ],
   "source": [
    "# Import the ones_like package \n",
    "from numpy import ones_like\n",
    "\n",
    "# Create the array to base the ones array on\n",
    "a1 = array([1, 2, 3, 4, 5])\n",
    "\n",
    "# Create the ones array\n",
    "a2 = ones_like(a1)\n",
    "\n",
    "# Display the eye array \n",
    "print(a2)"
   ]
  },
  {
   "cell_type": "code",
   "execution_count": 25,
   "metadata": {},
   "outputs": [
    {
     "name": "stdout",
     "output_type": "stream",
     "text": [
      "[[5 5 5 5 5]\n",
      " [5 5 5 5 5]\n",
      " [5 5 5 5 5]]\n"
     ]
    }
   ],
   "source": [
    "# Import the full package \n",
    "from numpy import full\n",
    "\n",
    "# Create the full array\n",
    "a = full([3, 5], 5)\n",
    "\n",
    "# Display the eye array \n",
    "print(a)"
   ]
  },
  {
   "cell_type": "markdown",
   "metadata": {},
   "source": [
    "Locate and develop an example for 3 additional NumPy functions for combining arrays."
   ]
  },
  {
   "cell_type": "code",
   "execution_count": 26,
   "metadata": {},
   "outputs": [
    {
     "name": "stdout",
     "output_type": "stream",
     "text": [
      "[1 2 3 4 5 6]\n",
      "(6,)\n"
     ]
    }
   ],
   "source": [
    "# Import the packages needed \n",
    "from numpy import array, concatenate \n",
    "\n",
    "# Create the arrays\n",
    "a1 = array([1, 2, 3])\n",
    "a2 = array([4, 5, 6])\n",
    "\n",
    "# Concatenate \n",
    "a3 = concatenate((a1, a2))\n",
    "\n",
    "# Display the new stacked array and its shape \n",
    "print(a3)\n",
    "print(a3.shape)"
   ]
  },
  {
   "cell_type": "markdown",
   "metadata": {},
   "source": [
    "As can be seen, concatenate produces the same result as hstack.  Hstack actually uses the concatenate function (see below)."
   ]
  },
  {
   "cell_type": "code",
   "execution_count": null,
   "metadata": {},
   "outputs": [],
   "source": []
  }
 ],
 "metadata": {
  "kernelspec": {
   "display_name": "Python 3",
   "language": "python",
   "name": "python3"
  },
  "language_info": {
   "codemirror_mode": {
    "name": "ipython",
    "version": 3
   },
   "file_extension": ".py",
   "mimetype": "text/x-python",
   "name": "python",
   "nbconvert_exporter": "python",
   "pygments_lexer": "ipython3",
   "version": "3.7.2"
  }
 },
 "nbformat": 4,
 "nbformat_minor": 2
}
